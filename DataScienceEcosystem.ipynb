{
 "cells": [
  {
   "cell_type": "markdown",
   "id": "e5246b3c-0ae8-40a6-9a61-29a6e5024a22",
   "metadata": {},
   "source": [
    "# Data Science Tools and Ecosystem"
   ]
  },
  {
   "cell_type": "markdown",
   "id": "ae8c91e5-2a11-4377-80a3-5bc81cdeaa14",
   "metadata": {},
   "source": [
    "In this Notebook the tools for Data Science Ecosystems are summarized."
   ]
  },
  {
   "cell_type": "markdown",
   "id": "c5abebf9-a4be-4ec7-801a-9bca10822ce0",
   "metadata": {},
   "source": [
    "**Objectives:**\n",
    "* List Popular Languages for Data Science\n",
    "* List Data Science Tools\n",
    "* List Common Libraries used by Data Scientist\n",
    "* Evaluate arithmetic expressions in Python\n",
    "\n",
    "\n",
    "\n",
    "\n",
    "\n"
   ]
  },
  {
   "cell_type": "markdown",
   "id": "0d85ea55-7f27-4a91-b3c9-696914b69b24",
   "metadata": {},
   "source": [
    "Some of the popular Languages that Data Scientist use are \n",
    "1. Python\n",
    "2. R\n",
    "3. Scala\n",
    "4. SQL\n",
    "5. Java\n"
   ]
  },
  {
   "cell_type": "markdown",
   "id": "d1e6a4c4-715d-4a1f-8b0d-7fd099840782",
   "metadata": {},
   "source": [
    "Some of the common libraries used by Data Scientists are as follows:\n",
    "*  Panda\n",
    "*  NumPy\n",
    "*  PyTorch\n",
    "*  BeautifulSoup\n",
    "*  Sci-kit Learn\n",
    "*  TensorFlow\n",
    "*  MatPlotlib\n"
   ]
  },
  {
   "cell_type": "markdown",
   "id": "ffc35382-0e60-4943-ad1c-c3785c8c4a58",
   "metadata": {},
   "source": [
    "---| Data Science Tools|\n",
    "|:------------------:|\n",
    "|Spyder|\n",
    "|GitLab|\n",
    "|VS Code|\n",
    "\n"
   ]
  },
  {
   "cell_type": "markdown",
   "id": "78f36865-1470-49c8-8c6b-fc56ea00f67e",
   "metadata": {},
   "source": [
    "### A few examples of evaluating Arithmetic expressions in Python are below\n",
    "(-)\n",
    "(+)\n",
    "(*)\n",
    "(/)\n",
    "(==)\n",
    "\n",
    "\n",
    "\n"
   ]
  },
  {
   "cell_type": "code",
   "execution_count": 2,
   "id": "8157c9f0-3359-4822-afa3-af50a166da6e",
   "metadata": {
    "tags": []
   },
   "outputs": [
    {
     "data": {
      "text/plain": [
       "17"
      ]
     },
     "execution_count": 2,
     "metadata": {},
     "output_type": "execute_result"
    }
   ],
   "source": [
    "#This is a simple Arithmetic to Multiply and add Integers\n",
    "(3*4)+5"
   ]
  },
  {
   "cell_type": "code",
   "execution_count": 10,
   "id": "0313c7f7-6074-4291-8f03-31e3f23c0a0a",
   "metadata": {
    "tags": []
   },
   "outputs": [
    {
     "data": {
      "text/plain": [
       "3.3333333333333335"
      ]
     },
     "execution_count": 10,
     "metadata": {},
     "output_type": "execute_result"
    }
   ],
   "source": [
    "#This code will convert 200 minutes to hours by dividing by 60\n",
    "200/60\n",
    "    \n",
    "\n",
    "\n"
   ]
  },
  {
   "cell_type": "markdown",
   "id": "0b358793-f0b8-42c8-9e94-9af8023531b3",
   "metadata": {},
   "source": [
    "## Author\n",
    " Faith.A\n",
    " "
   ]
  }
 ],
 "metadata": {
  "kernelspec": {
   "display_name": "Python",
   "language": "python",
   "name": "conda-env-python-py"
  },
  "language_info": {
   "codemirror_mode": {
    "name": "ipython",
    "version": 3
   },
   "file_extension": ".py",
   "mimetype": "text/x-python",
   "name": "python",
   "nbconvert_exporter": "python",
   "pygments_lexer": "ipython3",
   "version": "3.7.12"
  }
 },
 "nbformat": 4,
 "nbformat_minor": 5
}
